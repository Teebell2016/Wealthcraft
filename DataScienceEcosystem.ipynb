{
 "cells": [
  {
   "cell_type": "markdown",
   "id": "8cc32c43-ee5b-4109-b3ae-c4e20fbcc643",
   "metadata": {},
   "source": [
    "#Data Science Tools And Ecosystem"
   ]
  },
  {
   "cell_type": "markdown",
   "id": "84337b4a-b231-4559-ba2a-34d90cd0fbbc",
   "metadata": {},
   "source": [
    "In this notebook, Data Science and Ecosystem are summarised"
   ]
  },
  {
   "cell_type": "code",
   "execution_count": null,
   "id": "02ce5633-88ac-424c-85bc-f0769d6a49c4",
   "metadata": {},
   "outputs": [],
   "source": [
    "OBJECTIVES:\n",
    "-list popular languages for data science\n",
    "-list open source tools for data science\n",
    "-how to evaluate arithmetic expressions in data science"
   ]
  },
  {
   "cell_type": "markdown",
   "id": "c882ffb2-56f5-42aa-bb1c-212442f1ea59",
   "metadata": {},
   "source": [
    "Some of the popular languages that Data Scientists use are:\n",
    "1. Python\n",
    "2. R\n",
    "3. SQL"
   ]
  },
  {
   "cell_type": "markdown",
   "id": "749fa600-6f0b-47b3-b328-fd819c154d85",
   "metadata": {},
   "source": [
    "Some of the commonly used libraries used by Data Scientist include:\n",
    "1. NumPy\n",
    "2. Matplotlib\n",
    "3. TensorFlow"
   ]
  },
  {
   "cell_type": "code",
   "execution_count": null,
   "id": "ff79714d-2693-458f-bcee-eb0e26f05405",
   "metadata": {},
   "outputs": [],
   "source": [
    "Daya Science Tools\n",
    "------------------\n",
    "Aoache Spark\n",
    "TensorFlow\n",
    "Jupyter Notebook"
   ]
  },
  {
   "cell_type": "code",
   "execution_count": null,
   "id": "631cd78b-e9a5-4555-a058-22720ea793b5",
   "metadata": {},
   "outputs": [],
   "source": [
    "###Below are a few example of evaluating arithmetic expressions in python"
   ]
  },
  {
   "cell_type": "code",
   "execution_count": 9,
   "id": "49ae7ef4-8b9e-41c5-92e3-f9c6b7be3d12",
   "metadata": {},
   "outputs": [
    {
     "data": {
      "text/plain": [
       "17"
      ]
     },
     "execution_count": 9,
     "metadata": {},
     "output_type": "execute_result"
    }
   ],
   "source": [
    "this is a simple arithmetic expression to multiply then add integers(3*4)+5"
   ]
  },
  {
   "cell_type": "code",
   "execution_count": null,
   "id": "3e8ba9c7-708a-499c-9c42-3da48da1251a",
   "metadata": {},
   "outputs": [],
   "source": [
    "this will convert 200 minutes to hours by dividing by 60 200 minutes\n",
    "hours"
   ]
  },
  {
   "cell_type": "markdown",
   "id": "f0969cc2-4e65-4cd9-88d0-dcdab163db78",
   "metadata": {},
   "source": [
    "##Author\n",
    "Owobu Douglas"
   ]
  }
 ],
 "metadata": {
  "kernelspec": {
   "display_name": "Python 3 (ipykernel)",
   "language": "python",
   "name": "python3"
  },
  "language_info": {
   "codemirror_mode": {
    "name": "ipython",
    "version": 3
   },
   "file_extension": ".py",
   "mimetype": "text/x-python",
   "name": "python",
   "nbconvert_exporter": "python",
   "pygments_lexer": "ipython3",
   "version": "3.12.7"
  }
 },
 "nbformat": 4,
 "nbformat_minor": 5
}
